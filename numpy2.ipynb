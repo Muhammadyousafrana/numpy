{
 "cells": [
  {
   "cell_type": "code",
   "execution_count": 113,
   "id": "050175f3-1a77-4035-8122-fe31bf4974c4",
   "metadata": {},
   "outputs": [],
   "source": [
    "import numpy as np\n",
    "import pandas as pd\n",
    "import matplotlib.pyplot as plt"
   ]
  },
  {
   "cell_type": "code",
   "execution_count": 7,
   "id": "6144d25e-80f6-438f-b935-6a1da4a772bf",
   "metadata": {},
   "outputs": [],
   "source": [
    "arr = np.array(range(5))"
   ]
  },
  {
   "cell_type": "code",
   "execution_count": 8,
   "id": "30ffb1e4-c312-4174-af2a-f74f7328780e",
   "metadata": {},
   "outputs": [
    {
     "data": {
      "text/plain": [
       "array([0, 1, 2, 3, 4])"
      ]
     },
     "execution_count": 8,
     "metadata": {},
     "output_type": "execute_result"
    }
   ],
   "source": [
    "arr"
   ]
  },
  {
   "cell_type": "code",
   "execution_count": 9,
   "id": "b99680c0-fdfd-407d-8e1a-c615744b178e",
   "metadata": {},
   "outputs": [],
   "source": [
    "arr2 = np.array([[1,2,3,4],\n",
    "                 [5,6,7,8]])\n",
    "arr3 = np.array([[[1,2,3],\n",
    "                  [4,5,6],\n",
    "                  [7,8,9]],\n",
    "                [[10,11,12],\n",
    "                 [13,14,15],\n",
    "                 [16,17,18]]])"
   ]
  },
  {
   "cell_type": "code",
   "execution_count": 10,
   "id": "05bd1e5b-8cd0-464f-ab40-7d3aa334eada",
   "metadata": {},
   "outputs": [
    {
     "data": {
      "text/plain": [
       "array([[1, 2, 3, 4],\n",
       "       [5, 6, 7, 8]])"
      ]
     },
     "execution_count": 10,
     "metadata": {},
     "output_type": "execute_result"
    }
   ],
   "source": [
    "arr2"
   ]
  },
  {
   "cell_type": "code",
   "execution_count": 11,
   "id": "23f67202-ee3e-4f38-a887-318773a2ae8c",
   "metadata": {},
   "outputs": [
    {
     "data": {
      "text/plain": [
       "array([[[ 1,  2,  3],\n",
       "        [ 4,  5,  6],\n",
       "        [ 7,  8,  9]],\n",
       "\n",
       "       [[10, 11, 12],\n",
       "        [13, 14, 15],\n",
       "        [16, 17, 18]]])"
      ]
     },
     "execution_count": 11,
     "metadata": {},
     "output_type": "execute_result"
    }
   ],
   "source": [
    "arr3"
   ]
  },
  {
   "cell_type": "code",
   "execution_count": 12,
   "id": "042bf284-b89d-439e-ba61-3104b2a956da",
   "metadata": {},
   "outputs": [
    {
     "data": {
      "text/plain": [
       "(2, 4)"
      ]
     },
     "execution_count": 12,
     "metadata": {},
     "output_type": "execute_result"
    }
   ],
   "source": [
    "arr2.shape"
   ]
  },
  {
   "cell_type": "code",
   "execution_count": 13,
   "id": "5d9fdfd2-cb62-4839-bd69-959ec173532c",
   "metadata": {},
   "outputs": [
    {
     "data": {
      "text/plain": [
       "(2, 3, 3)"
      ]
     },
     "execution_count": 13,
     "metadata": {},
     "output_type": "execute_result"
    }
   ],
   "source": [
    "arr3.shape"
   ]
  },
  {
   "cell_type": "code",
   "execution_count": 14,
   "id": "499d7c0f-6fb5-4450-9360-82246b09101b",
   "metadata": {},
   "outputs": [
    {
     "data": {
      "text/plain": [
       "3"
      ]
     },
     "execution_count": 14,
     "metadata": {},
     "output_type": "execute_result"
    }
   ],
   "source": [
    "arr3.ndim"
   ]
  },
  {
   "cell_type": "code",
   "execution_count": 15,
   "id": "15817e33-aa7d-44fa-990a-ef92a5f8cc61",
   "metadata": {},
   "outputs": [
    {
     "data": {
      "text/plain": [
       "dtype('int32')"
      ]
     },
     "execution_count": 15,
     "metadata": {},
     "output_type": "execute_result"
    }
   ],
   "source": [
    "arr3.dtype"
   ]
  },
  {
   "cell_type": "code",
   "execution_count": 16,
   "id": "8207b627-94b8-4b1b-8ac2-fad64b9a19df",
   "metadata": {},
   "outputs": [
    {
     "data": {
      "text/plain": [
       "18"
      ]
     },
     "execution_count": 16,
     "metadata": {},
     "output_type": "execute_result"
    }
   ],
   "source": [
    "arr3.size"
   ]
  },
  {
   "cell_type": "code",
   "execution_count": 17,
   "id": "fc461c2f-ab84-4e2c-9b1c-880fd7b2a066",
   "metadata": {},
   "outputs": [
    {
     "data": {
      "text/plain": [
       "numpy.ndarray"
      ]
     },
     "execution_count": 17,
     "metadata": {},
     "output_type": "execute_result"
    }
   ],
   "source": [
    "type(arr3)"
   ]
  },
  {
   "cell_type": "code",
   "execution_count": 24,
   "id": "f71249a7-6c98-43da-af58-842d49254f46",
   "metadata": {},
   "outputs": [],
   "source": [
    "df = pd.DataFrame(arr2)"
   ]
  },
  {
   "cell_type": "code",
   "execution_count": 23,
   "id": "4ec35062-2e03-488c-a68f-49b2fd7e784e",
   "metadata": {},
   "outputs": [
    {
     "data": {
      "text/html": [
       "<div>\n",
       "<style scoped>\n",
       "    .dataframe tbody tr th:only-of-type {\n",
       "        vertical-align: middle;\n",
       "    }\n",
       "\n",
       "    .dataframe tbody tr th {\n",
       "        vertical-align: top;\n",
       "    }\n",
       "\n",
       "    .dataframe thead th {\n",
       "        text-align: right;\n",
       "    }\n",
       "</style>\n",
       "<table border=\"1\" class=\"dataframe\">\n",
       "  <thead>\n",
       "    <tr style=\"text-align: right;\">\n",
       "      <th></th>\n",
       "      <th>ali</th>\n",
       "      <th>ahmad</th>\n",
       "      <th>joseph</th>\n",
       "      <th>you</th>\n",
       "    </tr>\n",
       "  </thead>\n",
       "  <tbody>\n",
       "    <tr>\n",
       "      <th>0</th>\n",
       "      <td>1</td>\n",
       "      <td>2</td>\n",
       "      <td>3</td>\n",
       "      <td>4</td>\n",
       "    </tr>\n",
       "    <tr>\n",
       "      <th>1</th>\n",
       "      <td>5</td>\n",
       "      <td>6</td>\n",
       "      <td>7</td>\n",
       "      <td>8</td>\n",
       "    </tr>\n",
       "  </tbody>\n",
       "</table>\n",
       "</div>"
      ],
      "text/plain": [
       "   ali  ahmad  joseph  you\n",
       "0    1      2       3    4\n",
       "1    5      6       7    8"
      ]
     },
     "execution_count": 23,
     "metadata": {},
     "output_type": "execute_result"
    }
   ],
   "source": [
    "df"
   ]
  },
  {
   "cell_type": "code",
   "execution_count": 25,
   "id": "982b22d2-1834-414b-ac9a-657d4f87adfb",
   "metadata": {},
   "outputs": [
    {
     "data": {
      "text/plain": [
       "array([[1., 1.],\n",
       "       [1., 1.],\n",
       "       [1., 1.],\n",
       "       [1., 1.],\n",
       "       [1., 1.],\n",
       "       [1., 1.],\n",
       "       [1., 1.],\n",
       "       [1., 1.],\n",
       "       [1., 1.],\n",
       "       [1., 1.]])"
      ]
     },
     "execution_count": 25,
     "metadata": {},
     "output_type": "execute_result"
    }
   ],
   "source": [
    "np.ones(shape=(10,2))"
   ]
  },
  {
   "cell_type": "code",
   "execution_count": 26,
   "id": "d393b34a-f5ef-4892-9a3d-9059c11c4ba4",
   "metadata": {},
   "outputs": [
    {
     "data": {
      "text/plain": [
       "array([[[0., 0., 0.],\n",
       "        [0., 0., 0.]],\n",
       "\n",
       "       [[0., 0., 0.],\n",
       "        [0., 0., 0.]],\n",
       "\n",
       "       [[0., 0., 0.],\n",
       "        [0., 0., 0.]],\n",
       "\n",
       "       [[0., 0., 0.],\n",
       "        [0., 0., 0.]],\n",
       "\n",
       "       [[0., 0., 0.],\n",
       "        [0., 0., 0.]],\n",
       "\n",
       "       [[0., 0., 0.],\n",
       "        [0., 0., 0.]],\n",
       "\n",
       "       [[0., 0., 0.],\n",
       "        [0., 0., 0.]]])"
      ]
     },
     "execution_count": 26,
     "metadata": {},
     "output_type": "execute_result"
    }
   ],
   "source": [
    "np.zeros(shape=(7,2,3))"
   ]
  },
  {
   "cell_type": "code",
   "execution_count": 28,
   "id": "db54d226-641d-48af-8d8a-b094f61eca91",
   "metadata": {},
   "outputs": [
    {
     "data": {
      "text/plain": [
       "array([ 0,  3,  6,  9, 12, 15, 18, 21, 24, 27, 30, 33, 36, 39, 42, 45, 48,\n",
       "       51, 54, 57, 60, 63, 66, 69, 72, 75, 78, 81, 84, 87, 90, 93, 96, 99])"
      ]
     },
     "execution_count": 28,
     "metadata": {},
     "output_type": "execute_result"
    }
   ],
   "source": [
    "np.arange(0,100, 3)"
   ]
  },
  {
   "cell_type": "code",
   "execution_count": 29,
   "id": "a6188fd8-c3bc-4ffa-83e5-b5fdae44b2bf",
   "metadata": {},
   "outputs": [
    {
     "data": {
      "text/plain": [
       "array([[1, 5],\n",
       "       [8, 9],\n",
       "       [1, 0],\n",
       "       [1, 3],\n",
       "       [6, 4],\n",
       "       [1, 3],\n",
       "       [2, 6]])"
      ]
     },
     "execution_count": 29,
     "metadata": {},
     "output_type": "execute_result"
    }
   ],
   "source": [
    "np.random.randint(0,10, size=(7,2))"
   ]
  },
  {
   "cell_type": "code",
   "execution_count": 32,
   "id": "57b801bc-e25b-4b35-b0b6-97f130247d01",
   "metadata": {},
   "outputs": [
    {
     "data": {
      "text/plain": [
       "array([[0.40950171, 0.46272934, 0.56033264, 0.11466208, 0.6987599 ,\n",
       "        0.81998782],\n",
       "       [0.755228  , 0.81494439, 0.75974198, 0.03746472, 0.22000726,\n",
       "        0.06329593],\n",
       "       [0.78868629, 0.01290017, 0.58783658, 0.01276042, 0.82229407,\n",
       "        0.69651377],\n",
       "       [0.42576345, 0.81585553, 0.99919421, 0.93661117, 0.3706284 ,\n",
       "        0.20262429]])"
      ]
     },
     "execution_count": 32,
     "metadata": {},
     "output_type": "execute_result"
    }
   ],
   "source": [
    "np.random.random(size=(4,6))"
   ]
  },
  {
   "cell_type": "code",
   "execution_count": 35,
   "id": "b41895c3-0a9a-4e05-b313-7f1af570de2a",
   "metadata": {},
   "outputs": [
    {
     "data": {
      "text/plain": [
       "array([[6, 7, 5, 8, 8, 2],\n",
       "       [1, 7, 2, 3, 7, 3],\n",
       "       [9, 0, 1, 5, 9, 8],\n",
       "       [4, 4, 8, 6, 3, 3]])"
      ]
     },
     "execution_count": 35,
     "metadata": {},
     "output_type": "execute_result"
    }
   ],
   "source": [
    "np.random.seed(40)\n",
    "np.random.randint(0,10,size=(4,6))"
   ]
  },
  {
   "cell_type": "code",
   "execution_count": 36,
   "id": "67e7e40e-2e08-4104-93dc-a17075a97088",
   "metadata": {},
   "outputs": [],
   "source": [
    "rand_num = np.random.randint(1,7, size=(3,7))"
   ]
  },
  {
   "cell_type": "code",
   "execution_count": 37,
   "id": "88e970be-7549-4af5-b289-51b2db021ce8",
   "metadata": {},
   "outputs": [
    {
     "data": {
      "text/plain": [
       "array([[2, 4, 6, 5, 6, 6, 3],\n",
       "       [3, 3, 4, 5, 5, 2, 4],\n",
       "       [4, 3, 3, 3, 5, 6, 1]])"
      ]
     },
     "execution_count": 37,
     "metadata": {},
     "output_type": "execute_result"
    }
   ],
   "source": [
    "rand_num"
   ]
  },
  {
   "cell_type": "code",
   "execution_count": 44,
   "id": "49b5bbfc-1260-4f19-b1f3-f7db44b11c34",
   "metadata": {},
   "outputs": [
    {
     "data": {
      "text/plain": [
       "array([2, 4, 6, 5, 3, 1])"
      ]
     },
     "execution_count": 44,
     "metadata": {},
     "output_type": "execute_result"
    }
   ],
   "source": [
    "pd.unique(rand_num.reshape(21,))"
   ]
  },
  {
   "cell_type": "code",
   "execution_count": 41,
   "id": "72682286-fe1c-48ed-bb60-1baedc48401d",
   "metadata": {},
   "outputs": [
    {
     "data": {
      "text/plain": [
       "(2, (3, 7))"
      ]
     },
     "execution_count": 41,
     "metadata": {},
     "output_type": "execute_result"
    }
   ],
   "source": [
    "rand_num.ndim, rand_num.shape"
   ]
  },
  {
   "cell_type": "code",
   "execution_count": 46,
   "id": "3f5ac202-f05e-4130-ae5c-d05c270a33e6",
   "metadata": {},
   "outputs": [
    {
     "data": {
      "text/plain": [
       "array([[2, 4, 6, 5, 6, 6, 3],\n",
       "       [3, 3, 4, 5, 5, 2, 4],\n",
       "       [4, 3, 3, 3, 5, 6, 1]])"
      ]
     },
     "execution_count": 46,
     "metadata": {},
     "output_type": "execute_result"
    }
   ],
   "source": [
    "rand_num"
   ]
  },
  {
   "cell_type": "code",
   "execution_count": 54,
   "id": "e4a7b798-11e1-436a-935c-28904f3b7840",
   "metadata": {},
   "outputs": [
    {
     "data": {
      "text/plain": [
       "2"
      ]
     },
     "execution_count": 54,
     "metadata": {},
     "output_type": "execute_result"
    }
   ],
   "source": [
    "rand_num[0, 0]"
   ]
  },
  {
   "cell_type": "code",
   "execution_count": 55,
   "id": "b0960530-236b-4295-a03c-81715a568ed1",
   "metadata": {},
   "outputs": [
    {
     "data": {
      "text/plain": [
       "array([[0, 6, 1, 3, 2, 4, 5],\n",
       "       [5, 0, 1, 2, 6, 3, 4],\n",
       "       [6, 1, 2, 3, 0, 4, 5]], dtype=int64)"
      ]
     },
     "execution_count": 55,
     "metadata": {},
     "output_type": "execute_result"
    }
   ],
   "source": [
    "rand_num.argsort()"
   ]
  },
  {
   "cell_type": "code",
   "execution_count": 56,
   "id": "985d9be2-8ad3-49a3-b43b-e6eafa44c602",
   "metadata": {},
   "outputs": [
    {
     "data": {
      "text/plain": [
       "array([[2, 4, 6, 5, 6, 6, 3],\n",
       "       [3, 3, 4, 5, 5, 2, 4]])"
      ]
     },
     "execution_count": 56,
     "metadata": {},
     "output_type": "execute_result"
    }
   ],
   "source": [
    "rand_num[:2]"
   ]
  },
  {
   "cell_type": "code",
   "execution_count": 57,
   "id": "897b9425-a8a2-4709-aa3e-24506fcf647f",
   "metadata": {},
   "outputs": [
    {
     "data": {
      "text/plain": [
       "array([[2, 4],\n",
       "       [3, 3]])"
      ]
     },
     "execution_count": 57,
     "metadata": {},
     "output_type": "execute_result"
    }
   ],
   "source": [
    "rand_num[:2, :2]"
   ]
  },
  {
   "cell_type": "code",
   "execution_count": 63,
   "id": "0bffd182-2805-40de-86cb-a8dd1abb5809",
   "metadata": {},
   "outputs": [],
   "source": [
    "arr = np.random.randint(0,10, size=(3,5))\n",
    "one = np.ones(shape=(3,5))"
   ]
  },
  {
   "cell_type": "code",
   "execution_count": 64,
   "id": "a0aa8fd7-3697-449c-8180-3b1814bc4c92",
   "metadata": {},
   "outputs": [
    {
     "data": {
      "text/plain": [
       "((3, 5), (3, 5))"
      ]
     },
     "execution_count": 64,
     "metadata": {},
     "output_type": "execute_result"
    }
   ],
   "source": [
    "arr.shape, one.shape"
   ]
  },
  {
   "cell_type": "code",
   "execution_count": 65,
   "id": "f495b292-d02c-4c3c-89c9-ce961ac3fb26",
   "metadata": {},
   "outputs": [
    {
     "data": {
      "text/plain": [
       "array([[ 3., 10.,  8.,  4., 10.],\n",
       "       [ 1.,  6.,  6.,  6.,  1.],\n",
       "       [ 4.,  3.,  5., 10.,  8.]])"
      ]
     },
     "execution_count": 65,
     "metadata": {},
     "output_type": "execute_result"
    }
   ],
   "source": [
    "arr+zero"
   ]
  },
  {
   "cell_type": "code",
   "execution_count": 66,
   "id": "ae2bd56e-c0e4-4f71-a8f6-2c821a408855",
   "metadata": {},
   "outputs": [],
   "source": [
    "arr2 = np.random.randint(0,10, size = (5,3))"
   ]
  },
  {
   "cell_type": "code",
   "execution_count": 67,
   "id": "d240d07c-ba5c-4f47-92de-ce259402572f",
   "metadata": {},
   "outputs": [
    {
     "data": {
      "text/plain": [
       "array([[6, 7, 7],\n",
       "       [3, 4, 9],\n",
       "       [4, 7, 2],\n",
       "       [0, 8, 3],\n",
       "       [8, 9, 5]])"
      ]
     },
     "execution_count": 67,
     "metadata": {},
     "output_type": "execute_result"
    }
   ],
   "source": [
    "arr2"
   ]
  },
  {
   "cell_type": "code",
   "execution_count": 69,
   "id": "64f13624-b5b2-4e0f-90c8-5c854631416f",
   "metadata": {},
   "outputs": [
    {
     "data": {
      "text/plain": [
       "array([[ 7.,  8.,  8.],\n",
       "       [ 4.,  5., 10.],\n",
       "       [ 5.,  8.,  3.],\n",
       "       [ 1.,  9.,  4.],\n",
       "       [ 9., 10.,  6.]])"
      ]
     },
     "execution_count": 69,
     "metadata": {},
     "output_type": "execute_result"
    }
   ],
   "source": [
    "arr2+one.reshape(5,3)"
   ]
  },
  {
   "cell_type": "code",
   "execution_count": 71,
   "id": "54b86f03-16f7-4c93-9ae4-81c4c5da1780",
   "metadata": {},
   "outputs": [
    {
     "data": {
      "text/plain": [
       "array([[0., 0., 0., 0., 0.],\n",
       "       [0., 0., 0., 0., 0.],\n",
       "       [0., 0., 0., 0., 0.]])"
      ]
     },
     "execution_count": 71,
     "metadata": {},
     "output_type": "execute_result"
    }
   ],
   "source": [
    "arr3 = np.ones(shape=(3,5))\n",
    "one-arr3"
   ]
  },
  {
   "cell_type": "code",
   "execution_count": 72,
   "id": "2345c2a1-0f88-48d3-8deb-b7a15a03638f",
   "metadata": {},
   "outputs": [
    {
     "data": {
      "text/plain": [
       "array([[1., 1., 1., 1., 1.],\n",
       "       [1., 1., 1., 1., 1.],\n",
       "       [1., 1., 1., 1., 1.]])"
      ]
     },
     "execution_count": 72,
     "metadata": {},
     "output_type": "execute_result"
    }
   ],
   "source": [
    "one*arr3"
   ]
  },
  {
   "cell_type": "code",
   "execution_count": 73,
   "id": "1b461601-22b7-4cef-8d93-ebc6b4e15c1d",
   "metadata": {},
   "outputs": [
    {
     "data": {
      "text/plain": [
       "array([[1., 1., 1., 1., 1.],\n",
       "       [1., 1., 1., 1., 1.],\n",
       "       [1., 1., 1., 1., 1.]])"
      ]
     },
     "execution_count": 73,
     "metadata": {},
     "output_type": "execute_result"
    }
   ],
   "source": [
    "arr3**2"
   ]
  },
  {
   "cell_type": "code",
   "execution_count": 74,
   "id": "f9e6e280-6cb8-41f3-9d6c-fb4fea2754c1",
   "metadata": {},
   "outputs": [
    {
     "data": {
      "text/plain": [
       "array([[1., 1., 1., 1., 1.],\n",
       "       [1., 1., 1., 1., 1.],\n",
       "       [1., 1., 1., 1., 1.]])"
      ]
     },
     "execution_count": 74,
     "metadata": {},
     "output_type": "execute_result"
    }
   ],
   "source": [
    "np.power(arr3,2)"
   ]
  },
  {
   "cell_type": "code",
   "execution_count": 76,
   "id": "8085a207-5f01-4390-a112-d776f452af43",
   "metadata": {},
   "outputs": [
    {
     "data": {
      "text/plain": [
       "array([[ 4, 81, 49,  9, 81],\n",
       "       [ 0, 25, 25, 25,  0],\n",
       "       [ 9,  4, 16, 81, 49]])"
      ]
     },
     "execution_count": 76,
     "metadata": {},
     "output_type": "execute_result"
    }
   ],
   "source": [
    "np.square(arr)"
   ]
  },
  {
   "cell_type": "code",
   "execution_count": 77,
   "id": "c56b5937-48cf-4f44-8836-fe37690a5e75",
   "metadata": {},
   "outputs": [
    {
     "data": {
      "text/plain": [
       "4.666666666666667"
      ]
     },
     "execution_count": 77,
     "metadata": {},
     "output_type": "execute_result"
    }
   ],
   "source": [
    "np.mean(arr)"
   ]
  },
  {
   "cell_type": "code",
   "execution_count": 78,
   "id": "ea34e4a0-d116-414b-8d9e-23ad0d2e8447",
   "metadata": {},
   "outputs": [
    {
     "data": {
      "text/plain": [
       "0"
      ]
     },
     "execution_count": 78,
     "metadata": {},
     "output_type": "execute_result"
    }
   ],
   "source": [
    "np.min(arr)"
   ]
  },
  {
   "cell_type": "code",
   "execution_count": 79,
   "id": "fe1787a7-6c52-411c-b179-3da5f862c186",
   "metadata": {},
   "outputs": [
    {
     "data": {
      "text/plain": [
       "9"
      ]
     },
     "execution_count": 79,
     "metadata": {},
     "output_type": "execute_result"
    }
   ],
   "source": [
    "np.max(arr)"
   ]
  },
  {
   "cell_type": "code",
   "execution_count": 80,
   "id": "a0a54f0f-12b7-4000-87c8-a7e4d24d9991",
   "metadata": {},
   "outputs": [
    {
     "data": {
      "text/plain": [
       "2.958978802822953"
      ]
     },
     "execution_count": 80,
     "metadata": {},
     "output_type": "execute_result"
    }
   ],
   "source": [
    "np.std(arr)"
   ]
  },
  {
   "cell_type": "code",
   "execution_count": 82,
   "id": "3dda729e-f1d5-463c-a326-80ce8b8a1ae6",
   "metadata": {},
   "outputs": [
    {
     "data": {
      "text/plain": [
       "8.755555555555556"
      ]
     },
     "execution_count": 82,
     "metadata": {},
     "output_type": "execute_result"
    }
   ],
   "source": [
    "np.var(arr)"
   ]
  },
  {
   "cell_type": "code",
   "execution_count": 83,
   "id": "a16941d1-0681-485f-a53c-9b8242d71746",
   "metadata": {},
   "outputs": [
    {
     "data": {
      "text/plain": [
       "(3, 5)"
      ]
     },
     "execution_count": 83,
     "metadata": {},
     "output_type": "execute_result"
    }
   ],
   "source": [
    "arr3.shape"
   ]
  },
  {
   "cell_type": "code",
   "execution_count": 84,
   "id": "06b37e72-9775-42c5-935c-8911c5004c9a",
   "metadata": {},
   "outputs": [
    {
     "data": {
      "text/plain": [
       "array([[[1.],\n",
       "        [1.],\n",
       "        [1.]],\n",
       "\n",
       "       [[1.],\n",
       "        [1.],\n",
       "        [1.]],\n",
       "\n",
       "       [[1.],\n",
       "        [1.],\n",
       "        [1.]],\n",
       "\n",
       "       [[1.],\n",
       "        [1.],\n",
       "        [1.]],\n",
       "\n",
       "       [[1.],\n",
       "        [1.],\n",
       "        [1.]]])"
      ]
     },
     "execution_count": 84,
     "metadata": {},
     "output_type": "execute_result"
    }
   ],
   "source": [
    "arr3.reshape(5,3,1)"
   ]
  },
  {
   "cell_type": "code",
   "execution_count": 85,
   "id": "f9e0d7b6-78c6-42df-9f98-f88a0ffa4484",
   "metadata": {},
   "outputs": [
    {
     "data": {
      "text/plain": [
       "array([[1., 1., 1.],\n",
       "       [1., 1., 1.],\n",
       "       [1., 1., 1.],\n",
       "       [1., 1., 1.],\n",
       "       [1., 1., 1.]])"
      ]
     },
     "execution_count": 85,
     "metadata": {},
     "output_type": "execute_result"
    }
   ],
   "source": [
    "arr3.T"
   ]
  },
  {
   "cell_type": "code",
   "execution_count": 86,
   "id": "a154580e-ebdf-44cb-869f-ac25880df6a1",
   "metadata": {},
   "outputs": [],
   "source": [
    "arr2 = np.random.randint(0,10, size=(3,3))\n",
    "arr3 = np.random.randint(0,10, size=(3,2))"
   ]
  },
  {
   "cell_type": "code",
   "execution_count": 87,
   "id": "e1aa9166-3090-4265-a77d-9b4c15bca626",
   "metadata": {},
   "outputs": [
    {
     "data": {
      "text/plain": [
       "array([[104,  46],\n",
       "       [ 50,  22],\n",
       "       [101,  45]])"
      ]
     },
     "execution_count": 87,
     "metadata": {},
     "output_type": "execute_result"
    }
   ],
   "source": [
    "arr2.dot(arr3)"
   ]
  },
  {
   "cell_type": "code",
   "execution_count": 88,
   "id": "277d3e65-f9c0-4b54-a07e-fae61007af84",
   "metadata": {},
   "outputs": [],
   "source": [
    "arr2 = np.random.randint(0,10, size=(4,3))\n",
    "arr3 = np.random.randint(0,10, size=(4,3))"
   ]
  },
  {
   "cell_type": "code",
   "execution_count": 90,
   "id": "01d903a7-7718-46af-90d2-1da57d8edf0c",
   "metadata": {},
   "outputs": [
    {
     "data": {
      "text/plain": [
       "array([[ 18,  91,  33, 141],\n",
       "       [ 27, 112,  43, 147],\n",
       "       [ 21, 106,  29, 113],\n",
       "       [  0,  41,   2,  60]])"
      ]
     },
     "execution_count": 90,
     "metadata": {},
     "output_type": "execute_result"
    }
   ],
   "source": [
    "arr2.dot(arr3.reshape(3,4))"
   ]
  },
  {
   "cell_type": "code",
   "execution_count": 91,
   "id": "0c381ec0-e4f7-4551-aaea-e49107927619",
   "metadata": {},
   "outputs": [
    {
     "data": {
      "text/plain": [
       "array([[ 45,  30, 101, 102],\n",
       "       [ 35,  39,  92, 118],\n",
       "       [  5,  69,  38, 132],\n",
       "       [ 10,  42,  25,  71]])"
      ]
     },
     "execution_count": 91,
     "metadata": {},
     "output_type": "execute_result"
    }
   ],
   "source": [
    "arr2.dot(arr3.T)"
   ]
  },
  {
   "cell_type": "code",
   "execution_count": 92,
   "id": "353dd9bd-e089-4e9f-a86e-de5089e403b3",
   "metadata": {},
   "outputs": [
    {
     "data": {
      "text/plain": [
       "array([[ True,  True,  True],\n",
       "       [False,  True,  True],\n",
       "       [ True, False,  True],\n",
       "       [False, False, False]])"
      ]
     },
     "execution_count": 92,
     "metadata": {},
     "output_type": "execute_result"
    }
   ],
   "source": [
    "arr2 > arr3"
   ]
  },
  {
   "cell_type": "code",
   "execution_count": 93,
   "id": "c94b065b-5c2b-477a-823d-45361b0a7081",
   "metadata": {},
   "outputs": [
    {
     "data": {
      "text/plain": [
       "array([[ True,  True,  True],\n",
       "       [False,  True,  True],\n",
       "       [ True, False,  True],\n",
       "       [False, False, False]])"
      ]
     },
     "execution_count": 93,
     "metadata": {},
     "output_type": "execute_result"
    }
   ],
   "source": [
    "arr2 >= arr3"
   ]
  },
  {
   "cell_type": "code",
   "execution_count": 94,
   "id": "736d8cc6-25b6-487d-9757-c312ade42e78",
   "metadata": {},
   "outputs": [
    {
     "data": {
      "text/plain": [
       "array([[False, False, False],\n",
       "       [False, False, False],\n",
       "       [False,  True, False],\n",
       "       [ True, False,  True]])"
      ]
     },
     "execution_count": 94,
     "metadata": {},
     "output_type": "execute_result"
    }
   ],
   "source": [
    "arr3>7"
   ]
  },
  {
   "cell_type": "code",
   "execution_count": 95,
   "id": "30faa1df-cdc9-4622-a201-f17189ac684a",
   "metadata": {},
   "outputs": [
    {
     "data": {
      "text/plain": [
       "array([[False, False, False],\n",
       "       [False, False, False],\n",
       "       [False, False, False],\n",
       "       [False, False, False]])"
      ]
     },
     "execution_count": 95,
     "metadata": {},
     "output_type": "execute_result"
    }
   ],
   "source": [
    "arr2 == arr3"
   ]
  },
  {
   "cell_type": "code",
   "execution_count": 100,
   "id": "5af13e8e-efab-4aa3-9516-91190c6df58b",
   "metadata": {},
   "outputs": [],
   "source": [
    "arr3.sort(kind='heapsort')"
   ]
  },
  {
   "cell_type": "code",
   "execution_count": 107,
   "id": "b4f4e6b3-7715-4b18-8e32-c247d286a9ee",
   "metadata": {},
   "outputs": [
    {
     "data": {
      "text/plain": [
       "8"
      ]
     },
     "execution_count": 107,
     "metadata": {},
     "output_type": "execute_result"
    }
   ],
   "source": [
    "arr3.argmax()"
   ]
  },
  {
   "cell_type": "code",
   "execution_count": 102,
   "id": "4f1a1a69-b1d5-4de8-a8d7-ee4e4907da6a",
   "metadata": {},
   "outputs": [
    {
     "data": {
      "text/plain": [
       "0"
      ]
     },
     "execution_count": 102,
     "metadata": {},
     "output_type": "execute_result"
    }
   ],
   "source": [
    "arr3.argmin()"
   ]
  },
  {
   "cell_type": "code",
   "execution_count": 106,
   "id": "7a6d6645-f967-4480-b772-29bf7ef15b57",
   "metadata": {},
   "outputs": [
    {
     "data": {
      "text/plain": [
       "9"
      ]
     },
     "execution_count": 106,
     "metadata": {},
     "output_type": "execute_result"
    }
   ],
   "source": [
    "arr3.max()"
   ]
  },
  {
   "cell_type": "code",
   "execution_count": 108,
   "id": "65e5c646-6630-4506-96b4-7c38ed41eb2a",
   "metadata": {},
   "outputs": [
    {
     "data": {
      "text/plain": [
       "array([[0, 0, 5],\n",
       "       [0, 3, 6],\n",
       "       [1, 3, 9],\n",
       "       [4, 8, 9]])"
      ]
     },
     "execution_count": 108,
     "metadata": {},
     "output_type": "execute_result"
    }
   ],
   "source": [
    "arr3"
   ]
  },
  {
   "cell_type": "code",
   "execution_count": 109,
   "id": "e41f5cf3-ce8e-450f-bb71-796ad5515147",
   "metadata": {},
   "outputs": [
    {
     "data": {
      "text/plain": [
       "array([2, 2, 2, 2], dtype=int64)"
      ]
     },
     "execution_count": 109,
     "metadata": {},
     "output_type": "execute_result"
    }
   ],
   "source": [
    "arr3.argmax(axis=1)"
   ]
  },
  {
   "cell_type": "code",
   "execution_count": 110,
   "id": "db8d84fd-d873-4553-a8ef-86ceb5751345",
   "metadata": {},
   "outputs": [
    {
     "data": {
      "text/plain": [
       "array([3, 3, 2], dtype=int64)"
      ]
     },
     "execution_count": 110,
     "metadata": {},
     "output_type": "execute_result"
    }
   ],
   "source": [
    "arr3.argmax(axis=0)"
   ]
  },
  {
   "cell_type": "code",
   "execution_count": 124,
   "id": "6d687b37-8d56-42ff-a328-38c7e03b2760",
   "metadata": {},
   "outputs": [
    {
     "data": {
      "text/plain": [
       "array([[-1.56460807,  0.28498131,  0.90930081, -0.05588715,  0.27093607],\n",
       "       [-0.56355046,  0.84450328, -0.27413273, -0.62347637, -0.21277235],\n",
       "       [-1.53509939, -0.81126502,  1.2108651 , -0.01403274, -0.1955312 ]])"
      ]
     },
     "execution_count": 124,
     "metadata": {},
     "output_type": "execute_result"
    }
   ],
   "source": [
    "np.random.randn(3,5)"
   ]
  },
  {
   "cell_type": "code",
   "execution_count": 126,
   "id": "e5da9c8b-9881-46a3-a0e0-fdaa1ea2145f",
   "metadata": {},
   "outputs": [
    {
     "data": {
      "text/plain": [
       "array([  1.,  12.,  23.,  34.,  45.,  56.,  67.,  78.,  89., 100.])"
      ]
     },
     "execution_count": 126,
     "metadata": {},
     "output_type": "execute_result"
    }
   ],
   "source": [
    "np.linspace(1,100,10)"
   ]
  },
  {
   "cell_type": "code",
   "execution_count": null,
   "id": "d6143529-e8fc-48b0-ae1c-d5e58e106a89",
   "metadata": {},
   "outputs": [],
   "source": []
  }
 ],
 "metadata": {
  "kernelspec": {
   "display_name": "Python 3 (ipykernel)",
   "language": "python",
   "name": "python3"
  },
  "language_info": {
   "codemirror_mode": {
    "name": "ipython",
    "version": 3
   },
   "file_extension": ".py",
   "mimetype": "text/x-python",
   "name": "python",
   "nbconvert_exporter": "python",
   "pygments_lexer": "ipython3",
   "version": "3.11.7"
  }
 },
 "nbformat": 4,
 "nbformat_minor": 5
}
